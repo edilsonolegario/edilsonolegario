{
  "nbformat": 4,
  "nbformat_minor": 0,
  "metadata": {
    "colab": {
      "name": "Ferramentas Matemáticas Aplicadas",
      "provenance": [],
      "collapsed_sections": [],
      "authorship_tag": "ABX9TyPHISGUn6BwyplpaHq8u3lQ",
      "include_colab_link": true
    },
    "kernelspec": {
      "name": "python3",
      "display_name": "Python 3"
    },
    "language_info": {
      "name": "python"
    }
  },
  "cells": [
    {
      "cell_type": "markdown",
      "metadata": {
        "id": "view-in-github",
        "colab_type": "text"
      },
      "source": [
        "<a href=\"https://colab.research.google.com/github/edilsonolegario/edilsonolegario/blob/main/Ferramentas_Matem%C3%A1ticas_Aplicadas.ipynb\" target=\"_parent\"><img src=\"https://colab.research.google.com/assets/colab-badge.svg\" alt=\"Open In Colab\"/></a>"
      ]
    },
    {
      "cell_type": "code",
      "metadata": {
        "id": "BPfeh06Eu4Sy"
      },
      "source": [
        ""
      ],
      "execution_count": null,
      "outputs": []
    },
    {
      "cell_type": "markdown",
      "metadata": {
        "id": "i8IGDnoKvFax"
      },
      "source": [
        "# Aula 1"
      ]
    },
    {
      "cell_type": "markdown",
      "metadata": {
        "id": "KbrGIbf0Avzl"
      },
      "source": [
        "**\n",
        "#Theme 1 - Text\n",
        "Text Level\n",
        "\n",
        "#Title Level 1\n",
        "##Title Level 2\n",
        "###Title Level 3\n",
        "####Title Level 4\n",
        "#####Title Level 5\n",
        "**\n",
        "\n",
        "<!-- Use br in </> to line break --!>\n",
        "\n",
        "First Line\n",
        "Second Line"
      ]
    },
    {
      "cell_type": "code",
      "metadata": {
        "colab": {
          "base_uri": "https://localhost:8080/"
        },
        "id": "WPRaqnltvOAm",
        "outputId": "b7e05e04-e67a-4ce5-bc65-b2651e2b44bc"
      },
      "source": [
        "# Theme 1 - Text\n",
        "    # Used Text Tab\n",
        "\n",
        "# Theme 2 - Variable\n",
        "    #Create a variable\n",
        "temperature=32\n",
        "print(temperature)\n",
        "\n",
        "InitialTemperature=25\n",
        "FinalTemperature=28\n",
        "print(InitialTemperature)\n",
        "print(FinalTemperature)\n",
        "#or\n",
        "InitialTemperature,FinalTemperature = 25,28\n",
        "print(InitialTemperature, FinalTemperature)\n",
        "\n",
        "# Theme 3 - Addition & Subtraction\n",
        "\n",
        "\"\"\" \n",
        "Exercise 1 \n",
        "Uma fabrica de mesas de centro produz seus artigos a um custo unitario de R$ 122,30. \n",
        "Sabendo que uma mesa e vendida por R$283,90, determine a margem de contribuicao de cada mesa. \n",
        "\"\"\"\n",
        "\n",
        "print(283.90-122.30)\n",
        "#or\n",
        "CustoUnitario = 122.30\n",
        "PrecoDeVenda = 283.90\n",
        "Contribuicao = PrecoDeVenda-CustoUnitario\n",
        "print(Contribuicao)\n",
        "\n",
        "\"\"\"\n",
        "Exercise 2\n",
        "Um furo tem um diametro de 40mm e tolerancia de -o,035 e + 0,042.\n",
        "Determine a dimensao minima e a dimensao maxima desse furo.\n",
        "\"\"\"\n",
        "Diametro = 40\n",
        "Tolerancia1 = 0.042 \n",
        "# a=0.042\n",
        "Tolerancia2 = -0.035 \n",
        "# b=-0.035\n",
        "DimensaoMax = Diametro+Tolerancia1\n",
        "DimensaoMin = Diametro+Tolerancia2\n",
        "print(\"DimensaoMaximo: \", DimensaoMax)\n",
        "print(\"DimensaoMinima: \", DimensaoMin)\n",
        "\n",
        "# Define decimal number (\"%.2f\"% = 0,00), (\"%.3f\"% = 0,000), (\"%.4f\"% = 0,0000)...\n",
        "\n",
        "print(\"DimensaoMaximo: \", \"%.1f\"% DimensaoMax)\n",
        "print(\"DimensaoMinima: \", \"%.1f\"% DimensaoMin)\n",
        "print(\"DimensaoMaximo: \", \"%.3f\"% DimensaoMax)\n",
        "print(\"DimensaoMinima: \", \"%.3f\"% DimensaoMin)\n",
        "print(\"DimensaoMaximo: \", \"%.5f\"% DimensaoMax)\n",
        "print(\"DimensaoMinima: \", \"%.5f\"% DimensaoMin)\n",
        "\n",
        "#or\n",
        "\n",
        "print('DimensaoMaximo: %.4f' % DimensaoMax)\n",
        "print('DimensaoMinima: %.4f' % DimensaoMin)\n",
        "\n",
        "# Theme 4 - Multiplication & Division\n",
        "\n",
        "\"\"\"\n",
        "Um automovel custa R$39.900,00 a vista, mas sera pago em 8 parcelas mensais iguais, sem juros. Qual o valor de cada parcela?\n",
        "\"\"\"\n",
        "print(39900.00/8)\n",
        "#or\n",
        "\n",
        "TotalCost = 39900.00\n",
        "Parcel = 8\n",
        "ParcelValue = TotalCost/Parcel\n",
        "print(ParcelValue)\n",
        "\n",
        "\"\"\"\n",
        "Supondo que 1 dolar corresponde a 4,08 reais, qual e o preco em reais de um aparelho celular que custa 499 dolar?\n",
        "\"\"\"\n",
        "print(499*4.08)\n",
        "\n",
        "\"\"\"\n",
        "Na modalidade de juros simples, o calculo da taxa de juros e feito pela formula i=(m-c)/(c.n), \n",
        "onde \"i\" e a taxa de juros simples, \"c\" e o capital, \"m\" é montante e \"n\" e o tempo. \n",
        "Se uma fatura no valor de R$ 5.387,76 foi paga com 23 dias de atraso totalizando R$5.612,89, qual foi a taxa diaria de juros utilizada?\n",
        "\n",
        "i = taxa de juros simples\n",
        "c = capital\n",
        "m = montante\n",
        "n = tempo\n",
        "\"\"\"\n",
        "c = 5387.76\n",
        "m = 5612.89\n",
        "n = 23\n",
        "i=((((m-c)/n/c))*100) # (c.n) = n/c\n",
        "print('A Taxa é: %.2f' % i + ' ao dia')\n",
        "\n",
        "\"\"\"\n",
        "Imagine que um dentista cobra 240,00 por consulta. Desse valor, 27,5% se refere ao imposto de renda. \n",
        "Qual é o imposto de renda pago para um total de 80 consultas mensais?\n",
        "\"\"\"\n",
        "print(240*0.275*80)\n",
        "\n",
        "\"\"\"\n",
        "Nesse exemplo temos um aumento de 37% sobre o preço de custo. Como o preço de custo corresponde a 100% e o aumento é de 37%, \n",
        "podemos fazer 100%+37% para obtermos o preço já com o aumento. Em porcentagem, esse preço é dado por 100%+37%=137%. \n",
        "Como 137% corresponde a 137/100 e como precisamos multiplicar esse valor por 320,00 para obtermos o preço com aumento, \n",
        "a expressão a ser utilizada é: 320*137/100.\n",
        "\"\"\"\n",
        "a = 320*1.37\n",
        "print('O preço de venda da mercadoria deve ser de R$%.2f'% a)\n",
        "\n",
        "\"\"\"\n",
        "Um boleto no valor de R$ 566,00 foi pago com 6 meses de atraso, resultando em um montante de R$ 614,30. \n",
        "Supondo que o juro cobrado é calculado sobre o valor inicial da dívida e, consequentemente, constante a cada mês, \n",
        "qual foi a taxa mensal utilizada? Obs.: Na modalidade de juros simples, o cálculo da taxa de juros é feito pela fórmula i=(m-c)/(c.n), \n",
        "em que “i” é a taxa de juros simples, “c” é o capital, “m” é montante e “n” é o tempo.\n",
        "i = taxa de juros simples\n",
        "c = capital\n",
        "m = montante\n",
        "n = tempo\n",
        "\"\"\"\n",
        "c = 566.00\n",
        "m = 614.30\n",
        "n = 6\n",
        "i=((((m-c)/n/c))*100)\n",
        "print('A Taxa é: %.2f' % i + ' ao mês')\n",
        "print('A Taxa é: %.2f%%' % i + ' ao mês') # %% = 1.42%\n",
        "\n",
        "# Theme 5 - Potentiation & Radication\n",
        "  # Potentiation = **\n",
        "print(6**4) # 6**4 = 6*6*6*6\n",
        "print(6*6*6*6)  \n",
        "\n",
        "\"\"\"\n",
        "Calcule, por meio do Python, 3V7 = 7^1/3\n",
        "Obs.: nVa^m = a^m/n \n",
        "\"\"\"\n",
        "n = 3\n",
        "a = 7\n",
        "m = 1\n",
        "Raiz = a**(m/n)\n",
        "print(Raiz)\n",
        "\n",
        "\"\"\"\n",
        "Calcule, por meio do Python, 2V16 = 16^1/2\n",
        "Obs.: nVa^m = a^m/n \n",
        "\"\"\"\n",
        "n = 2\n",
        "a = 16\n",
        "m = 1\n",
        "Raiz = a**(m/n)\n",
        "print(Raiz)\n",
        "\n",
        "\"\"\"\n",
        "Na modalidade de juros composotos, o calculo do valor futuro e feito pela formula vf=vp*(1+i)n,\n",
        "onde \"vf\" e o valor futuro, \"vp\" e o valor presente, \"i\" e a taxa de crescimento e \"n\" e o tempo. \n",
        "Qual o valor futuro de uma aplicaçao de R$12.300,00 feita por 10 meses a uma taxa de juros compostos de 2% ao mes? \n",
        "\n",
        "vf = valor futuro\n",
        "vp = valor presente\n",
        "i = taxa de crescimento \n",
        "n = tempo\n",
        "\"\"\"\n",
        "vp = 12300.00\n",
        "i = 0.02\n",
        "n = 10\n",
        "vf = vp*(1+i)**n\n",
        "print('O valor futuro é de R$%.2f'% vf)\n",
        "\n",
        "\"\"\"\n",
        "Imagine que uma distribuidora de bebidas tem um aumento anual constante de 4% nas vendas. \n",
        "Supondo que esse padrão de aumento se mantenha, qual será o volume de vendas daqui a 3 anos, \n",
        "sabendo que atualmente são comercializados R$ 925.000,00 em bebidas por ano?\n",
        "\n",
        "vf = valor futuro\n",
        "vp = valor presente\n",
        "i = taxa de crescimento \n",
        "n = tempo\n",
        "\"\"\"\n",
        "vp = 925000.00\n",
        "i = 0.04\n",
        "n = 3\n",
        "vf = vp*(1+i)**n\n",
        "print('O valor futuro é de R$%.2f'% vf + 'em 3 anos')\n",
        "\n",
        "\"\"\"\n",
        "Radication \n",
        "\n",
        "1=nV(m/c)-1 essa fórmula corresponde a (m/c)**(1/n)-1.\n",
        "\n",
        "Imagine que um boleto no valor de R$ 566,00 foi pago com 6 meses de atraso, \n",
        "resultando em um montante de R$ 614,30. Supondo que o juro cobrado é calculado sobre o valor atualizado da dívida, \n",
        "ou seja, juros compostos, qual foi a taxa mensal utilizada?\n",
        "\n",
        "i = taxa de juros compostos\n",
        "c = capital\n",
        "m = montante\n",
        "n = tempo\n",
        "\"\"\"\n",
        "c = 566.00\n",
        "m = 614.30\n",
        "n = 6\n",
        "i=(((m/c)**(1/n)-1)*100)\n",
        "print('A Taxa é: %.2f' % i + ' ao mês')\n",
        "print('A Taxa é: %.2f%%' % i + ' ao mês') # %% = 1.3%"
      ],
      "execution_count": 106,
      "outputs": [
        {
          "output_type": "stream",
          "text": [
            "32\n",
            "25\n",
            "28\n",
            "25 28\n",
            "161.59999999999997\n",
            "161.59999999999997\n",
            "DimensaoMaximo:  40.042\n",
            "DimensaoMinima:  39.965\n",
            "DimensaoMaximo:  40.0\n",
            "DimensaoMinima:  40.0\n",
            "DimensaoMaximo:  40.042\n",
            "DimensaoMinima:  39.965\n",
            "DimensaoMaximo:  40.04200\n",
            "DimensaoMinima:  39.96500\n",
            "DimensaoMaximo: 40.0420\n",
            "DimensaoMinima: 39.9650\n",
            "4987.5\n",
            "4987.5\n",
            "2035.92\n",
            "A Taxa é: 0.18 ao dia\n",
            "5280.0\n",
            "O preço de venda da mercadoria deve ser de R$438.40\n",
            "A Taxa é: 1.42 ao mês\n",
            "A Taxa é: 1.42% ao mês\n",
            "1296\n",
            "1296\n",
            "1.912931182772389\n",
            "4.0\n",
            "O valor futuro é de R$14993.63\n",
            "O valor futuro é de R$1040499.20em 3 anos\n",
            "A Taxa é: 1.37 ao mês\n",
            "A Taxa é: 1.37% ao mês\n"
          ],
          "name": "stdout"
        }
      ]
    },
    {
      "cell_type": "markdown",
      "metadata": {
        "id": "fkbsl7mdAlUk"
      },
      "source": [
        "# Aula 2\n"
      ]
    },
    {
      "cell_type": "code",
      "metadata": {
        "colab": {
          "base_uri": "https://localhost:8080/",
          "height": 54
        },
        "id": "Pbubhw1IAug1",
        "outputId": "d6853790-1db7-4be2-ec19-284510d171b5"
      },
      "source": [
        "# Theme 1 - Python Library \n",
        "\n",
        "import sympy # sympy = Elementos Simbolicos\n",
        "#or import specific fuctions like:\n",
        "from sympy import diff # diff = Função Derivada\n",
        "import matplotlib.pyplot as plt # Graph Library\n",
        "\n",
        "# Theme 2 - Introduction to Symbolic Math\n",
        "\n",
        "from sympy import *\n",
        "x,y = symbols (\"x y\")\n",
        "\n",
        "y = 2*x\n",
        "print(y)\n",
        "\n",
        "y.subs(x,7)\n",
        "\n",
        "# Theme 3 - Expression Factoring and Expansion\n",
        "# Theme 4 - Roots & Equations\n",
        "# Theme 5 - Graphs\n"
      ],
      "execution_count": 111,
      "outputs": [
        {
          "output_type": "stream",
          "text": [
            "2*x\n"
          ],
          "name": "stdout"
        },
        {
          "output_type": "execute_result",
          "data": {
            "text/latex": "$\\displaystyle 14$",
            "text/plain": [
              "14"
            ]
          },
          "metadata": {
            "tags": []
          },
          "execution_count": 111
        }
      ]
    }
  ]
}